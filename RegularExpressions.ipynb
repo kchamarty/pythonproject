{
  "nbformat": 4,
  "nbformat_minor": 0,
  "metadata": {
    "colab": {
      "name": "RegularExpressions.ipynb",
      "provenance": [],
      "authorship_tag": "ABX9TyP0h7R+VLKEfkmVm74L3i0T",
      "include_colab_link": true
    },
    "kernelspec": {
      "name": "python3",
      "display_name": "Python 3"
    }
  },
  "cells": [
    {
      "cell_type": "markdown",
      "metadata": {
        "id": "view-in-github",
        "colab_type": "text"
      },
      "source": [
        "<a href=\"https://colab.research.google.com/github/kchamarty/pythonproject/blob/master/RegularExpressions.ipynb\" target=\"_parent\"><img src=\"https://colab.research.google.com/assets/colab-badge.svg\" alt=\"Open In Colab\"/></a>"
      ]
    },
    {
      "cell_type": "markdown",
      "metadata": {
        "id": "uPCQAAONnrV7",
        "colab_type": "text"
      },
      "source": [
        "# **Regular Expressions in Python.**\n",
        "\n",
        "**Regular Expression:** A Regular Expression is a sequence of characters that are used to define and identify a search or a matching pattern. It is useful for extracting information from text such as code, files, logs and other such sources, information.\n",
        "In Python, these capabilities are available to us via a package called “re”. The most common functions that allow us to use Regular Expressions are search(), match(), findall(), finditer() and sub().  Some of the notations, special characters and their meanings are as briefed below.\n",
        "\n",
        "----\n",
        "\n",
        "**Spcial Characters:**\n",
        "\n",
        "**. (dot)**  :  is used to match any character except newlines ‘\\n’.\n",
        "\n",
        "**\"+\"** : is used to match one more occurrences of the immediately preceding character or pattern.\n",
        "\n",
        "**\"*\"**  : is used to match zero or more occurrences of the preceding character or pattern.\n",
        "\n",
        "**\"?\"** : is used to match exactly zero or one occurrence of the preceding character or pattern.\n",
        "\n",
        "**\" \\\\\"**: is known as the escape character and is used to instruct the machine to escape (ignore its special meaning) the character succeeding it or give a special meaning to some of the regular characters. For eg: \"\\\\*\" ignores the interpretation as mentioned above and treats it as \"*\" instead of matching [\\\\,\\\\\\\\,\\\\\\\\\\\\\\,\\\\\\\\\\\\\\\\, so on] and \"\\d\" indicates it is a set of digits from 0 to 1  (and not the pattern \"\\\\\" followed by \"d\"). \n",
        "\n",
        "\n",
        "---\n",
        "**common special charaters**\n",
        "\n",
        "square brackets [ ],also known as character class can be used to specify a set of items. [0-9] indicates numbers fom 0 to 9.\n",
        "[a-z] indicates lower case alphabets from a to z. [0-9A-Za-z] indicates the complete set of alpha numeric charcters.\n",
        "optionally, we can use the square brackets to enclose special characters to void them of their special meaning. eg: there is no special meaning given to \"\\*\" when used as [a*b]. \n",
        "\n",
        "curly braces {} are used to specify the repition of an RE a specific number/range of times. {m} is used to repeat an RE m times and {m,n} is used to search a repeat pattern any number of times betwwen m and n.\n",
        "\n",
        "the pipe symbol or bar | is used as an or operator and is useful when searching for multiple patterns. eg: \"abc|def\" searches and returns strings that contain  \"abc\" or \"def\".\n",
        "\n",
        "\n",
        "---\n",
        "\n",
        "**Grouping:**\n",
        "\n",
        "A regular expression enclosed in a paranathesis () creates a group. a question mark at the begining in a group gives different meaning to the group. \n",
        "\n",
        "**(?P\\<gname>...)** is used to give a name to the goup. \n",
        "\n",
        "**(?P=gname)** is used to reference the previously defined group. \n",
        "\n",
        "**(?iLmsux...)** is used to set the RE flag. i - Ignorecase, L - Localedependent, m - multi-line, s- dot matches all and u - unicode dependent are the flags.\n",
        "\n",
        "**(?=...)** is used to check if the current RE pattern is matched by the next RE ... in the ().\n",
        "\n",
        "**(?<=...)** is used to check if the current RE pattern is matched by the preceding RE ... in the ().\n",
        "\n",
        "---\n",
        "\n",
        "**RE functions**\n",
        "\n",
        "The most common functions are \n",
        "\n",
        "**search(pattern,string,<flags>)**: Searches the entire string and returns the MatchObject. The match object contains the starting position, the end position and the groups/subgroups  that match the pattern.  \n",
        "\n",
        "**match(pattern,string,<flags>)**: It is similar to search, but it searches only at the begining of the string.\n",
        "\n",
        "**findall(pattern,string,<flags>)**: Searches for all the matching patternss and returns a list of the matched strings.\n",
        "\n",
        "**finditer(pattern,string,<flags>)**: It returns the mached strings iteratively and this gives us more flexibility in deciding how to handle with each match object \n",
        "\n",
        "**sub(pattern, repl, string, count=0, flags=0)**: It is used for replacing the matched paterns with a new string.\n",
        "\n"
      ]
    },
    {
      "cell_type": "markdown",
      "metadata": {
        "id": "8mgsmeEQcKPq",
        "colab_type": "text"
      },
      "source": [
        "# Sample Codes"
      ]
    },
    {
      "cell_type": "code",
      "metadata": {
        "id": "sGJCHnZC1tz0",
        "colab_type": "code",
        "colab": {}
      },
      "source": [
        "import re"
      ],
      "execution_count": 0,
      "outputs": []
    },
    {
      "cell_type": "code",
      "metadata": {
        "id": "ufz58X6FzH6A",
        "colab_type": "code",
        "outputId": "bf854234-82f2-4a8b-8f9e-e2e5345b0ae9",
        "colab": {
          "base_uri": "https://localhost:8080/",
          "height": 34
        }
      },
      "source": [
        "#Sin Number a 9 digit number\n",
        "#starts with 1,2,3,4,5,6,7 abd 9\n",
        "#can contain a space after 3 digits and 6 digits\n",
        "sinp=re.compile(\"[12345679]\\d{2} ?\\d{3} ?\\d{3}\");\n",
        "sins = sinp.findall(\"123 456 789 123 456 789 876453789  954367891 \")\n",
        "print(sins)"
      ],
      "execution_count": 0,
      "outputs": [
        {
          "output_type": "stream",
          "text": [
            "['123 456 789', '123 456 789', '954367891']\n"
          ],
          "name": "stdout"
        }
      ]
    },
    {
      "cell_type": "code",
      "metadata": {
        "id": "TjtR3SZA1zmW",
        "colab_type": "code",
        "outputId": "4dffd081-dab1-464a-9594-e3a45722c653",
        "colab": {
          "base_uri": "https://localhost:8080/",
          "height": 87
        }
      },
      "source": [
        "#Pattern Matching for international codes only using groups\n",
        "\n",
        "#can start with + or 00 followed by 2 \n",
        "text=\"1012 131 abc 1234567890 #647 545 3600 #647-545-3600 #647-545 3600 # 001 (647)545-3600 +91 0091 1-888\"\n",
        "re_intcode =re.compile('(1-|00|\\+)([1-9]{1,3})') # 1-888(tollfree)\n",
        "for m in re.finditer(re_intcode, text):\n",
        "    print('{}-{}: {}'.format(m.start(), m.end(), m.group(0)))\n",
        "#intcd=re_intcode.findall(\"1012 131 abc 1234567890 #647 545 3600 #647-545-3600 #647-545 3600 # 001 (647)545-3600 +91 0091 1-888\");\n",
        "#print(intcd);"
      ],
      "execution_count": 0,
      "outputs": [
        {
          "output_type": "stream",
          "text": [
            "68-71: 001\n",
            "86-89: +91\n",
            "90-94: 0091\n",
            "95-100: 1-888\n"
          ],
          "name": "stdout"
        }
      ]
    },
    {
      "cell_type": "code",
      "metadata": {
        "colab_type": "code",
        "outputId": "521039a8-787f-4b7b-fb92-597abcc5d25e",
        "id": "WEQPappszZgt",
        "colab": {
          "base_uri": "https://localhost:8080/",
          "height": 104
        }
      },
      "source": [
        "#Pattern Matching for Phone numbers only\n",
        "#can start with  (  so (?\n",
        "#(647) 545-3600\n",
        "#first digit has to be between 1and9 and remaining digits between o and 9\n",
        "#6475453600\n",
        "#can be followed by a space or a - after 3 digits\n",
        "#647 545 3600\n",
        "#647-545-3600\n",
        "\n",
        "#647 545 3600\n",
        "\n",
        "#phone = re.compile(r\"[1-9]\\d{2}-\\d{3}-\\d{4}\")\n",
        "phone = re.compile(r\"[(][1-9]\\d{2}[)] ?\\d{3}[ |-]\\d{4}|[1-9]\\d{2} ?\\d{3} ?\\d{4}|[1-9]\\d{2}-?\\d{3}-?\\d{4}(?=\\b) \")\n",
        "\n",
        "#ph=phone.findall(\"1012 131 abc 1234567890 #647 545 3600 #647-545-3600 #647-545 3600 # 001 (647)545-3600 #6475453600 12345678901 \");\n",
        "#print(ph);\n",
        "text=\"1012 131 abc 1234567890 #647 545 3600 #647-545-3600 #647-545 3600 # 001 (647)545-3600 #6475453600 \"\n",
        "for ph in re.finditer(phone, text):\n",
        "    print('{}-{}: {}'.format(ph.start(), ph.end(), ph.group(0)))\n"
      ],
      "execution_count": 9,
      "outputs": [
        {
          "output_type": "stream",
          "text": [
            "13-23: 1234567890\n",
            "25-37: 647 545 3600\n",
            "39-52: 647-545-3600 \n",
            "72-85: (647)545-3600\n",
            "87-97: 6475453600\n"
          ],
          "name": "stdout"
        }
      ]
    },
    {
      "cell_type": "code",
      "metadata": {
        "id": "9OdLJWyvl2Xm",
        "colab_type": "code",
        "outputId": "15f97bf3-02c8-402c-ab26-d762dc954cc3",
        "colab": {
          "base_uri": "https://localhost:8080/",
          "height": 34
        }
      },
      "source": [
        "# find out who are smarter than ?\n",
        "stext  = 'Girls are smarter than Boys'\n",
        "smart=re.compile(r'\\w+(?= are smarter than)',re.I)\n",
        "res = smart.match(stext)\n",
        "print(res.group(0))"
      ],
      "execution_count": 0,
      "outputs": [
        {
          "output_type": "stream",
          "text": [
            "Girls\n"
          ],
          "name": "stdout"
        }
      ]
    },
    {
      "cell_type": "code",
      "metadata": {
        "id": "s9Ei2JcgmY_a",
        "colab_type": "code",
        "outputId": "5d1a3869-522d-4c86-e379-08de05ee7b72",
        "colab": {
          "base_uri": "https://localhost:8080/",
          "height": 34
        }
      },
      "source": [
        "stext1 = 'Cats and rats are Smarter than Dogs'\n",
        "smart=re.compile(r'[\\w\\s]+(?= are smarter than)',re.I)\n",
        "res1 = smart.findall(stext1)\n",
        "print(res1)"
      ],
      "execution_count": 10,
      "outputs": [
        {
          "output_type": "stream",
          "text": [
            "['Cats and rats']\n"
          ],
          "name": "stdout"
        }
      ]
    },
    {
      "cell_type": "code",
      "metadata": {
        "id": "iHwvNmdWCrAj",
        "colab_type": "code",
        "outputId": "f6601d2e-ae42-43f8-e0ea-174d228cb97f",
        "colab": {
          "base_uri": "https://localhost:8080/",
          "height": 104
        }
      },
      "source": [
        "##Pattern Matching  for complete phone number including isd codes\n",
        "text =\"+919885097903 +16479854836 00919867543216 45454545454545454545 0016479854836 #001647 545 3600 #647-545-3600 +123434\"\n",
        "#re_intcode =re.compile('(1-|00|\\+)([1-9]{1,3})')\n",
        "#phone = re.compile(r\"[(][1-9]\\d{2}[)] ?\\d{3}[ |-]\\d{4}(?=\\b)|[1-9]\\d{2} ?\\d{3} ?\\d{4}(?=\\b)|[1-9]\\d{2}-?\\d{3}-?\\d{4}(?=\\b) \")\n",
        "full_phone=re.compile('(1-|00|\\+)([1-9]{1,3})?([(][1-9]\\d{2}[)] ?\\d{3}[ |-]\\d{4}|[1-9]\\d{2} ?\\d{3} ?\\d{4}|[1-9]\\d{2}-?\\d{3}-?\\d{4})')\n",
        "\n",
        "for fullph in re.finditer(full_phone, text):\n",
        "    print('{}-{}: {}'.format(fullph.start(), fullph.end(), fullph.group(0)))\n",
        "\n"
      ],
      "execution_count": 19,
      "outputs": [
        {
          "output_type": "stream",
          "text": [
            "0-13: +919885097903\n",
            "14-26: +16479854836\n",
            "27-41: 00919867543216\n",
            "63-76: 0016479854836\n",
            "78-93: 001647 545 3600\n"
          ],
          "name": "stdout"
        }
      ]
    }
  ]
}