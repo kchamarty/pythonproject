{
  "nbformat": 4,
  "nbformat_minor": 0,
  "metadata": {
    "colab": {
      "name": "Copy of kumarchamarty_pythonv1.ipynb",
      "provenance": [],
      "authorship_tag": "ABX9TyO4SPmMCw6DCLzvQ2I2Wj6p",
      "include_colab_link": true
    },
    "kernelspec": {
      "name": "python3",
      "display_name": "Python 3"
    }
  },
  "cells": [
    {
      "cell_type": "markdown",
      "metadata": {
        "id": "view-in-github",
        "colab_type": "text"
      },
      "source": [
        "<a href=\"https://colab.research.google.com/github/kchamarty/pythonproject/blob/patienctchurn/kumarchamarty_pythonv1.ipynb\" target=\"_parent\"><img src=\"https://colab.research.google.com/assets/colab-badge.svg\" alt=\"Open In Colab\"/></a>"
      ]
    },
    {
      "cell_type": "markdown",
      "metadata": {
        "id": "IfCMYX2CThwd",
        "colab_type": "text"
      },
      "source": [
        "#**Importing the required Packages**"
      ]
    },
    {
      "cell_type": "code",
      "metadata": {
        "id": "Mv4cYiyQLeWd",
        "colab_type": "code",
        "colab": {}
      },
      "source": [
        "#importing packages\n",
        "\n",
        "import pandas as pd # Load the pandas libraries with alias 'pd'\n",
        "import matplotlib.pyplot as plt # Load the matplotlib.pyplot libraries with alias 'plt' \n",
        "%matplotlib inline\n",
        "import seaborn as sns # Load the seaborn libraries with alias 'sns'\n",
        "sns.set()\n",
        "\n",
        "from pandas_profiling import ProfileReport as pr"
      ],
      "execution_count": 0,
      "outputs": []
    },
    {
      "cell_type": "markdown",
      "metadata": {
        "id": "moOhG7HoLgcY",
        "colab_type": "text"
      },
      "source": [
        "# **Data Importing**\n",
        "\n",
        "\n",
        "---\n",
        "\n",
        "We have two data sets one containing the patient doctor visit information and the other containing the status of the patient active or not"
      ]
    },
    {
      "cell_type": "code",
      "metadata": {
        "id": "2IxlvoU_fO4v",
        "colab_type": "code",
        "colab": {}
      },
      "source": [
        "patient_doc_visit_df = pd.read_csv(\"https://raw.githubusercontent.com/kchamarty/pythonproject/master/data/PatientDoctorVisit.csv\");"
      ],
      "execution_count": 0,
      "outputs": []
    },
    {
      "cell_type": "code",
      "metadata": {
        "id": "EblamdXKbXCz",
        "colab_type": "code",
        "colab": {}
      },
      "source": [
        "patient_churn_df = pd.read_csv(r\"https://raw.githubusercontent.com/kchamarty/pythonproject/master/data/PatientDetails.csv\");"
      ],
      "execution_count": 0,
      "outputs": []
    },
    {
      "cell_type": "code",
      "metadata": {
        "id": "hvccfP1ubeKP",
        "colab_type": "code",
        "colab": {}
      },
      "source": [
        "patient_train_df = pd.read_csv(r\"https://raw.githubusercontent.com/kchamarty/pythonproject/master/data/Train_Patient_Churn.csv\");\n",
        "\n",
        "patient_test_df = pd.read_csv(r\"https://raw.githubusercontent.com/kchamarty/pythonproject/master/data/Test_Patient_Churn.csv\");"
      ],
      "execution_count": 0,
      "outputs": []
    },
    {
      "cell_type": "markdown",
      "metadata": {
        "id": "TJf3KYOnggmi",
        "colab_type": "text"
      },
      "source": [
        "#**Column names**"
      ]
    },
    {
      "cell_type": "code",
      "metadata": {
        "id": "sZS1zjpagctM",
        "colab_type": "code",
        "outputId": "afbe1388-bab5-49cf-c284-bbf3a55f4305",
        "colab": {
          "base_uri": "https://localhost:8080/",
          "height": 87
        }
      },
      "source": [
        "patient_doc_visit_df.columns"
      ],
      "execution_count": 0,
      "outputs": [
        {
          "output_type": "execute_result",
          "data": {
            "text/plain": [
              "Index(['transaction_date', 'practice_id', 'patient_id', 'provider_id',\n",
              "       'transaction_type', 'proceedure_code', 'proceedure_description',\n",
              "       'amount'],\n",
              "      dtype='object')"
            ]
          },
          "metadata": {
            "tags": []
          },
          "execution_count": 31
        }
      ]
    },
    {
      "cell_type": "code",
      "metadata": {
        "id": "I1P0hc8Xg5gj",
        "colab_type": "code",
        "outputId": "c9577426-e892-42fd-aabb-9df5e1a019d0",
        "colab": {
          "base_uri": "https://localhost:8080/",
          "height": 104
        }
      },
      "source": [
        "patient_churn_df.columns"
      ],
      "execution_count": 0,
      "outputs": [
        {
          "output_type": "execute_result",
          "data": {
            "text/plain": [
              "Index(['practice_id', 'patient_id', 'gender', 'age', 'zip',\n",
              "       'primary_insurance_company_id', 'secondary_insurance_company_id',\n",
              "       'patient_referral', 'other_referral', 'FirstVisit', 'LastVisit',\n",
              "       'DaysLastVisit', 'Chrun'],\n",
              "      dtype='object')"
            ]
          },
          "metadata": {
            "tags": []
          },
          "execution_count": 32
        }
      ]
    },
    {
      "cell_type": "code",
      "metadata": {
        "id": "9EKHNKDzhDtK",
        "colab_type": "code",
        "outputId": "deac1908-4486-4932-dd24-c10eb3fef4bc",
        "colab": {
          "base_uri": "https://localhost:8080/",
          "height": 244
        }
      },
      "source": [
        "[x for x in patient_train_df.columns]"
      ],
      "execution_count": 0,
      "outputs": [
        {
          "output_type": "execute_result",
          "data": {
            "text/plain": [
              "['practice_id',\n",
              " 'patient_id',\n",
              " 'gender',\n",
              " 'age',\n",
              " 'zip',\n",
              " 'primary_insurance_company_id',\n",
              " 'secondary_insurance_company_id',\n",
              " 'patient_referral',\n",
              " 'other_referral',\n",
              " 'FirstVisit',\n",
              " 'LastVisit',\n",
              " 'DaysLastVisit',\n",
              " 'Chrun']"
            ]
          },
          "metadata": {
            "tags": []
          },
          "execution_count": 36
        }
      ]
    },
    {
      "cell_type": "markdown",
      "metadata": {
        "id": "YiSLKARqRVyU",
        "colab_type": "text"
      },
      "source": [
        "#**Cleaning the data set**\n",
        "\n",
        "\n",
        "*   STEP 1: Identify duplicates and get rid of them. 1: Identify duplicates and get rid of them.\n",
        "*   STEP 2: PROCESS MISSING VALUES.\n",
        "*   STEP 3: \n",
        "\n",
        "\n"
      ]
    },
    {
      "cell_type": "code",
      "metadata": {
        "id": "Hp-VhMtpRQ7P",
        "colab_type": "code",
        "outputId": "f82cd45c-4644-44b6-f415-87b370dd6e19",
        "colab": {
          "base_uri": "https://localhost:8080/",
          "height": 332
        }
      },
      "source": [
        "print(patient_doc_visit_df.count())\n",
        "print(patient_doc_visit_df[patient_doc_visit_df.duplicated(keep='first')].count())"
      ],
      "execution_count": 0,
      "outputs": [
        {
          "output_type": "stream",
          "text": [
            "transaction_date          573401\n",
            "practice_id               573401\n",
            "patient_id                573401\n",
            "provider_id               573401\n",
            "transaction_type          573401\n",
            "proceedure_code           570073\n",
            "proceedure_description    564052\n",
            "amount                    573401\n",
            "dtype: int64\n",
            "transaction_date          23151\n",
            "practice_id               23151\n",
            "patient_id                23151\n",
            "provider_id               23151\n",
            "transaction_type          23151\n",
            "proceedure_code           23033\n",
            "proceedure_description    23035\n",
            "amount                    23151\n",
            "dtype: int64\n"
          ],
          "name": "stdout"
        }
      ]
    },
    {
      "cell_type": "code",
      "metadata": {
        "id": "VUbTdHwlVc4X",
        "colab_type": "code",
        "outputId": "4f1ff9c0-b8a5-47ae-8e8a-1b9bc8dedce7",
        "colab": {
          "base_uri": "https://localhost:8080/",
          "height": 174
        }
      },
      "source": [
        "patient_doc_visit_df.drop_duplicates(inplace=True)\n",
        "patient_doc_visit_df.count()"
      ],
      "execution_count": 0,
      "outputs": [
        {
          "output_type": "execute_result",
          "data": {
            "text/plain": [
              "transaction_date          550250\n",
              "practice_id               550250\n",
              "patient_id                550250\n",
              "provider_id               550250\n",
              "transaction_type          550250\n",
              "proceedure_code           547040\n",
              "proceedure_description    541017\n",
              "amount                    550250\n",
              "dtype: int64"
            ]
          },
          "metadata": {
            "tags": []
          },
          "execution_count": 8
        }
      ]
    },
    {
      "cell_type": "code",
      "metadata": {
        "id": "GBAHcda-0hTq",
        "colab_type": "code",
        "colab": {}
      },
      "source": [
        ""
      ],
      "execution_count": 0,
      "outputs": []
    },
    {
      "cell_type": "markdown",
      "metadata": {
        "id": "XhVEyKcHqGjF",
        "colab_type": "text"
      },
      "source": [
        "# Identifying the clean records"
      ]
    },
    {
      "cell_type": "code",
      "metadata": {
        "id": "Kaom1C1TUBM0",
        "colab_type": "code",
        "outputId": "462c9566-1593-436b-a581-da5dd5e82fe5",
        "colab": {
          "base_uri": "https://localhost:8080/",
          "height": 34
        }
      },
      "source": [
        "A=set()\n",
        "for x,y in zip(patient_churn_df['practice_id'],patient_churn_df['patient_id']):\n",
        "  A.add((x,y))\n",
        "len(A)"
      ],
      "execution_count": 0,
      "outputs": [
        {
          "output_type": "execute_result",
          "data": {
            "text/plain": [
              "25000"
            ]
          },
          "metadata": {
            "tags": []
          },
          "execution_count": 9
        }
      ]
    },
    {
      "cell_type": "code",
      "metadata": {
        "id": "kylZ_H54BXRA",
        "colab_type": "code",
        "outputId": "48e3f537-9da4-4ec4-ddad-21f0f63ea8f2",
        "colab": {
          "base_uri": "https://localhost:8080/",
          "height": 69
        }
      },
      "source": [
        "patient_churn_df[['practice_id','patient_id']].drop_duplicates().count()\n"
      ],
      "execution_count": 0,
      "outputs": [
        {
          "output_type": "execute_result",
          "data": {
            "text/plain": [
              "practice_id    25000\n",
              "patient_id     25000\n",
              "dtype: int64"
            ]
          },
          "metadata": {
            "tags": []
          },
          "execution_count": 11
        }
      ]
    },
    {
      "cell_type": "code",
      "metadata": {
        "id": "_1DZlEOcrZxC",
        "colab_type": "code",
        "outputId": "1cd68092-a4e1-40cb-a807-1a576e85ce02",
        "colab": {
          "base_uri": "https://localhost:8080/",
          "height": 69
        }
      },
      "source": [
        "patient_doc_visit_df[['practice_id','patient_id']].drop_duplicates().count()\n"
      ],
      "execution_count": 0,
      "outputs": [
        {
          "output_type": "execute_result",
          "data": {
            "text/plain": [
              "practice_id    42172\n",
              "patient_id     42172\n",
              "dtype: int64"
            ]
          },
          "metadata": {
            "tags": []
          },
          "execution_count": 10
        }
      ]
    },
    {
      "cell_type": "code",
      "metadata": {
        "id": "ZaJRD_boC5CK",
        "colab_type": "code",
        "outputId": "fa8de8cd-43f9-400b-beda-b0700afb3d19",
        "colab": {
          "base_uri": "https://localhost:8080/",
          "height": 34
        }
      },
      "source": [
        "B=set()\n",
        "for x,y in zip(patient_doc_visit_df['practice_id'],patient_doc_visit_df['patient_id']):\n",
        "  B.add((x,y))\n",
        "len(B)"
      ],
      "execution_count": 0,
      "outputs": [
        {
          "output_type": "execute_result",
          "data": {
            "text/plain": [
              "42172"
            ]
          },
          "metadata": {
            "tags": []
          },
          "execution_count": 12
        }
      ]
    },
    {
      "cell_type": "code",
      "metadata": {
        "id": "g2TFwvxoD9IQ",
        "colab_type": "code",
        "outputId": "c1c6f46e-a9ff-4800-ec39-0bcecb08bca0",
        "colab": {
          "base_uri": "https://localhost:8080/",
          "height": 69
        }
      },
      "source": [
        "print(len(A & B))\n",
        "print(len(A - B))\n",
        "print(len(B - A))"
      ],
      "execution_count": 0,
      "outputs": [
        {
          "output_type": "stream",
          "text": [
            "22806\n",
            "2194\n",
            "19366\n"
          ],
          "name": "stdout"
        }
      ]
    },
    {
      "cell_type": "code",
      "metadata": {
        "id": "qnR-2wIemPsl",
        "colab_type": "code",
        "outputId": "0712f31e-7813-44c0-9fcf-f1f62c43c20f",
        "colab": {
          "base_uri": "https://localhost:8080/",
          "height": 367
        }
      },
      "source": [
        "c= A&B\n",
        "for i in range(0,10):\n",
        "  print(c.pop())\n",
        "\n",
        "print(type(c));\n",
        "\n",
        "common_df = pd.DataFrame(c);\n",
        "common_df.columns =['practice_id','patient_id']\n",
        "\n",
        "print(common_df.head())\n",
        "print(common_df.count())"
      ],
      "execution_count": 0,
      "outputs": [
        {
          "output_type": "stream",
          "text": [
            "('D24402', 6135)\n",
            "('D10551', 15648)\n",
            "('D17435', 15167)\n",
            "('D8066', 52773)\n",
            "('D10745', 22593)\n",
            "('D24402', 7762)\n",
            "('D24402', 6201)\n",
            "('D10551', 18171)\n",
            "('D8066', 55574)\n",
            "('D10551', 20304)\n",
            "<class 'set'>\n",
            "  practice_id  patient_id\n",
            "0       D8061        1612\n",
            "1      D30507       15879\n",
            "2      D20674        3570\n",
            "3      D10551       13583\n",
            "4      D10745       24766\n",
            "practice_id    22796\n",
            "patient_id     22796\n",
            "dtype: int64\n"
          ],
          "name": "stdout"
        }
      ]
    },
    {
      "cell_type": "markdown",
      "metadata": {
        "id": "bk9jBPdHGKCh",
        "colab_type": "text"
      },
      "source": [
        "# Creating my final study frame work"
      ]
    },
    {
      "cell_type": "code",
      "metadata": {
        "id": "LuuJ9YKkqQI4",
        "colab_type": "code",
        "colab": {}
      },
      "source": [
        "patient_churn_study_df=patient_churn_df.merge(common_df,how='inner',on=['practice_id','patient_id']).drop_duplicates()\n",
        "patient_churn_study_df.FirstVisit=pd.to_datetime(patient_churn_study_df.FirstVisit)\n",
        "patient_churn_study_df.LastVisit=pd.to_datetime(patient_churn_study_df.LastVisit)\n",
        "patient_churn_study_df['FirstVisit_year']=pd.DatetimeIndex(patient_churn_study_df['FirstVisit']).year\n",
        "patient_churn_study_df['FirstVisit_month']=pd.DatetimeIndex(patient_churn_study_df['FirstVisit']).month\n",
        "patient_churn_study_df['FirstVisit_day']=pd.DatetimeIndex(patient_churn_study_df['FirstVisit']).day\n",
        "patient_churn_study_df['LastVisit_year']=pd.DatetimeIndex(patient_churn_study_df['LastVisit']).year\n",
        "patient_churn_study_df['LastVisit_month']=pd.DatetimeIndex(patient_churn_study_df['LastVisit']).month\n",
        "patient_churn_study_df['LastVisit_day']=pd.DatetimeIndex(patient_churn_study_df['LastVisit']).day\n"
      ],
      "execution_count": 0,
      "outputs": []
    },
    {
      "cell_type": "code",
      "metadata": {
        "id": "nP4eqzxorJef",
        "colab_type": "code",
        "colab": {}
      },
      "source": [
        "patient_doc_visit_study_df=patient_doc_visit_df.merge(common_df,how='inner',on=['practice_id','patient_id']).drop_duplicates()\n",
        "patient_doc_visit_study_df.transaction_date=pd.to_datetime(patient_doc_visit_study_df.transaction_date)\n",
        "patient_doc_visit_study_df['transaction_year']=pd.DatetimeIndex(patient_doc_visit_study_df['transaction_date']).year\n",
        "patient_doc_visit_study_df['transaction_month']=pd.DatetimeIndex(patient_doc_visit_study_df['transaction_date']).month\n",
        "patient_doc_visit_study_df['transaction_day']=pd.DatetimeIndex(patient_doc_visit_study_df['transaction_date']).day"
      ],
      "execution_count": 0,
      "outputs": []
    },
    {
      "cell_type": "code",
      "metadata": {
        "id": "6O5hicInqt_0",
        "colab_type": "code",
        "colab": {}
      },
      "source": [
        "patient_churn_study_final_df=patient_churn_df.merge(patient_doc_visit_df,how='inner',on=['practice_id','patient_id']).drop_duplicates()\n",
        "# patient_churn_study_final_df.FirstVisit=pd.to_datetime(patient_churn_study_df.FirstVisit)\n",
        "# patient_churn_study_final_df.LastVisit=pd.to_datetime(patient_churn_study_df.LastVisit)\n",
        "# patient_churn_study_final_df.transaction_date=pd.to_datetime(patient_churn_study_df.transaction_date)"
      ],
      "execution_count": 0,
      "outputs": []
    },
    {
      "cell_type": "markdown",
      "metadata": {
        "id": "jBpuTVruHzCQ",
        "colab_type": "text"
      },
      "source": [
        "## Descriptive Analysis of Study Framework"
      ]
    },
    {
      "cell_type": "code",
      "metadata": {
        "id": "n6OpaEPVdhou",
        "colab_type": "code",
        "colab": {}
      },
      "source": [
        "[patient_churn_study_df[x].value_counts() for x in patient_churn_study_df.columns if patient_churn_study_df[x].dtype=='O']\n",
        "#patient_churn_study_df['patient_referral'].dtype=='O'"
      ],
      "execution_count": 0,
      "outputs": []
    },
    {
      "cell_type": "code",
      "metadata": {
        "id": "PdTseu9nhnTg",
        "colab_type": "code",
        "outputId": "18684769-3c37-4041-c6e3-b1c8ab9e5108",
        "colab": {
          "base_uri": "https://localhost:8080/",
          "height": 244
        }
      },
      "source": [
        "patient_churn_study_df.gender[(patient_churn_study_df.gender == 'F') | (patient_churn_study_df.gender =='Female')] = 'FEMALE'\n",
        "patient_churn_study_df.gender[(patient_churn_study_df.gender == 'M')| (patient_churn_study_df.gender =='Male')] = 'MALE'\n",
        "patient_churn_study_df.gender.value_counts()"
      ],
      "execution_count": 0,
      "outputs": [
        {
          "output_type": "stream",
          "text": [
            "/usr/local/lib/python3.6/dist-packages/ipykernel_launcher.py:1: SettingWithCopyWarning: \n",
            "A value is trying to be set on a copy of a slice from a DataFrame\n",
            "\n",
            "See the caveats in the documentation: http://pandas.pydata.org/pandas-docs/stable/user_guide/indexing.html#returning-a-view-versus-a-copy\n",
            "  \"\"\"Entry point for launching an IPython kernel.\n",
            "/usr/local/lib/python3.6/dist-packages/ipykernel_launcher.py:2: SettingWithCopyWarning: \n",
            "A value is trying to be set on a copy of a slice from a DataFrame\n",
            "\n",
            "See the caveats in the documentation: http://pandas.pydata.org/pandas-docs/stable/user_guide/indexing.html#returning-a-view-versus-a-copy\n",
            "  \n"
          ],
          "name": "stderr"
        },
        {
          "output_type": "execute_result",
          "data": {
            "text/plain": [
              "FEMALE    197738\n",
              "MALE      173617\n",
              "Name: gender, dtype: int64"
            ]
          },
          "metadata": {
            "tags": []
          },
          "execution_count": 94
        }
      ]
    },
    {
      "cell_type": "code",
      "metadata": {
        "id": "KrHnvXCzmRZw",
        "colab_type": "code",
        "outputId": "3da1d312-ab8c-49e4-9399-8a3c69d0d5ef",
        "colab": {
          "base_uri": "https://localhost:8080/",
          "height": 1000
        }
      },
      "source": [
        "print(patient_churn_study_df.proceedure_description.unique())\n",
        "print(patient_churn_study_df.proceedure_code.unique())\n"
      ],
      "execution_count": 0,
      "outputs": [
        {
          "output_type": "stream",
          "text": [
            "['Limited Oral Previous Pat-Examination and Diagnosis'\n",
            " 'Four films-Intraoral Bitewing' 'Two units of time-Scaling' ...\n",
            " 'Biopsy - Soft Oral Tissue - Puncture'\n",
            " \"Duplication & Transfer of Patient's Dental Record\"\n",
            " 'Space MaintainerBand TypeFixed BilateralSoldered Lin']\n",
            "['1202' '2144' '11112' '11107' '23313' '23323' '23312' '23322' '23321'\n",
            " '27201' '99111' '23602' '33144' '1204' '71201' '92412' '23314' '92413'\n",
            " '16101' '2111' '1103' '11113' '11101' '11117' '2112' '2601' '11114'\n",
            " '12113' '12101' '1101' '2142' '23115' '23114' '23111' '2114' '29302'\n",
            " '66252' '2121' '11116' '11111' '14612' '1205' '2141' '23325' '2113'\n",
            " '23112' '92305' '96202' '72211' '72221' '23113' '21401' '23315' '2101'\n",
            " '33111' '27211' '42201' '23324' '2119' '23311' '71101' '71109' '12112'\n",
            " '33141' '20131' '2116' '77801' '1102' '15101' '92414' '23512' '66251'\n",
            " 'Misc' '2115' 'MISC' '2102' '23601' '14611' '29101' '20121' '13401'\n",
            " '13211' '11115' '2143' '23414' '92433' '12111' '33134' '14502' '21402'\n",
            " '72231' '2117' '92415' '13409' '92434' '23513' '79602' '92411' '97123'\n",
            " '92416' '23511' '14101' '16301' '14721' '2120' '20111' '2118' '29301'\n",
            " '15604' '41301' '80651' '15103' '72321' '11119' '56111' '21223' '27301'\n",
            " '53202' '25764' '21224' nan '21222' '55402' '21213' '39101' '32311'\n",
            " '73211' '53102' '67211' '62501' '42431' '43422' '29102' '66301' '66212'\n",
            " '33131' '42311' '99555' '39212' '55401' '27511' '51101' '34162' '72339'\n",
            " '72331' '33121' '21214' '32313' '39211' '55301' '27111' '25531' '52101'\n",
            " '71209' '21221' '56242' '56512' '39312' '55101' '56231' '56511' '21212'\n",
            " '53201' '21225' '42551' '52511' '25721' '32221' '4311' '56521' '52112'\n",
            " '23514' '72421' '34423' '27401' '55201' '56522' '32312' '56241' '55302'\n",
            " '52302' '32222' '43281' '27602' '16512' '52102' '83101' '23222' '72111'\n",
            " '92102' '92101' '23211' '25713' '32232' '22211' '1100' '92304' '97124'\n",
            " '97125' '97128' '4901' '83102' '5102' '93331' '43421' '23212' '72311'\n",
            " '72319' '2701' '80000' '200' '92306' '25711' '79932' '27215' '26102'\n",
            " '5201' '89701' '97130' '23221' '53101' '56232' '1602' '21241' '74111'\n",
            " '98000' '72431' '97129' '77803' '51301' '81131' '981'\n",
            " 'D3-77-23-95-A9-20-03' 'D1-22-5D-A7-5F-1F-02' 'A3-64-4D-B2-A5-E3-01'\n",
            " '70-32-1B-A7-3C-0A-02' 'D9-43-46-56-54-9A-01' 'E2-3C-BC-4E-9B-47-03'\n",
            " 'D9-A1-65-9E-D2-EC-02' 'REV' '77730' '16511' '27' '99999' '13601' '99333'\n",
            " '23415' '23413' '25731' '23411' '80671' '83201' '73111' '4' '80679'\n",
            " '2132' '23412' '75111' '43111' '4911' '93112' '4931' '77802' '22' '66302'\n",
            " '24' '23223' '89700' '97111' '51302' '94303' '97127' '83301' '21242'\n",
            " '92446' '25712' '21122' '91111' '92303' '42611' '1601' '42531' '42341'\n",
            " '79341' '79931' '56612' '6102' '93333' '80631' '23213' '73521' '92308'\n",
            " '3002' '49211' '53111' '21233' '53112' '56233' '72219' '77777' '73121'\n",
            " '72801' '33124' '33114' '66312' '33115' '75112' '29311' '23102' '80632'\n",
            " '2131' '16401' '23515' '43211' '62702' '33135' '12103' '92417' '49101'\n",
            " '66221' '25765' '32314' '29312' '14711' '23402' '11' '21211' '21243'\n",
            " '83202' '99900' '52301' '39201' '21113' '21112' '97113' '5202' '21111'\n",
            " '99888' '12' '11102' '29103' '97120' 'WE00' '39202' '25732' '21403'\n",
            " '21244' '52111' '25781' '43423' '11109' '43424' '62502' '67201' '53211'\n",
            " '23104' '67205' '26101' '27205' '79404' '23503' 'W000' '21102' '21114'\n",
            " '13502' '1210' '42621' '67215' '56211' '51102' '1201' '66213' '53921'\n",
            " '602' '67121' '21404' '51103' '25754' '74114' '53113' '52312' '14901' '1'\n",
            " '56221' '52311' '74632' '42702' '53212' '93311' '32231' '52212' '2145'\n",
            " '21215' '33113' '25742' '54201' '21405' '72511' '43427' '21232' '21231'\n",
            " '29111' '23502' '66222' '23215' '23214' '3001' '92431' '1011' '72411'\n",
            " '2122' '33146' '32322' '42831' '33603' '27121' '16309' '33604' '33145'\n",
            " '33602' '33132' '29113' '92422' '92445' '15601' '2913' '92432' '52121'\n",
            " '62703' '66253' '33601' '23501' '16201' '34111' '15603' '42832' '27305'\n",
            " '33133' '34161' '42411' '23224' '29112' '80005' '23103' '13301' '34131'\n",
            " '27113' '33112' '79933' '16514' '23101' '21245' '16513' '62101' '20139'\n",
            " '34231' '7' '21234' '52201' '34211' '34141' '42441' '66224' '67113'\n",
            " '92418' '66311' '42631' '1502' '7011' '97121' '1501' '55501' '79356'\n",
            " '67202' '91211' '43412' '42701' '1503' '42721' '43425' '56412' '14911'\n",
            " '27145' '43426' '4312' '20119' '42552' '2133' '42421' '67301' '52512'\n",
            " '72429' '27711' '53401' '33122' '13901' '34233' '34411' '74631' '21235'\n",
            " '67307' '54202' '34122' '13701' '2124' '53402' '67138' '12102' '71211'\n",
            " '33136' '2146' '80659' '66303' '66211' '4809' '4803' '2752' '20141'\n",
            " '4403' '97122' '4801' '94407' '4721' '14621' '13419' '13411' '80641'\n",
            " '96103' '79601' '14622' '4922' '25762' '67341' '25756' '79355' '99995'\n",
            " '20101' '52122' '52211' '29104' '23123' '22311' '4501' '25771' '2125'\n",
            " '4711' '67137' '66223' '16' '3' '76141' '4101' '41211' '39411' '21501'\n",
            " '33123' '33142' '92435' '1801' '43521' '42111' '42451' '27801' '16102'\n",
            " '4802' '1301' '1802' '43289' '0000M' '72242' '92436' '4321' '1401'\n",
            " '99777' '33125' '72329' '12100' '92423' '92424' '25601' '4509' '92426'\n",
            " '29303' '94304' '2123' '27721' '5101' '16409' '92425' '43221' '21121'\n",
            " '50' '92421' '16104' '25142' '62105' '34311' '21301' '79962' '55102'\n",
            " '14722' '94305' '73224' '76959' '76952' '2802' '27221' '16203' 'L14612'\n",
            " 'L27301' 'L27201' 'L14611' 'FWO' 'L27211' 'L04721' 'PRU' '7013' 'L25711'\n",
            " '79942' 'L79942' 'L27215' '71219' 'L15101' 'L83202' 'INT' 'SNFD' '79941'\n",
            " 'L79941' 'SLIDER' '80672' 'L83201' 'ADMIN' '2933' 'BDWO' 'CDD' 'BS'\n",
            " 'SPND' '41222' 'L67211' 'L62501' '93332' 'ORTHO' '1901' 'HOSP' 'EFD'\n",
            " 'L67201' 'L62502' 'XGUM180' 'FLUORID' 'ADM' 'CAWO' 'L83101' '69701' 'BBS'\n",
            " '66309' 'SLAPP' '58151' 'L14621' '69201' 'L69201' '72531' '97126' '97112'\n",
            " '79936' '13101' '79331' '80642' '56321' '15' '1022' '103' '100' '23405'\n",
            " '81151' '33143' '66719' '66711' '81121' '81141' '56322' '79123' '34222'\n",
            " '34322' '88888' '4722' '42821' '34334' 'R' '27135' '42571' '42562'\n",
            " '25141' '79935' '87101' '4913' '28105' '41302' '4712' '4741' '4923'\n",
            " '34364' '25761' '34363' '81231' '72119' '39412' '51913' '2952' '13231'\n",
            " '66304' '25766' '21123' '42819' '4732' '93211' '15104']\n"
          ],
          "name": "stdout"
        }
      ]
    },
    {
      "cell_type": "code",
      "metadata": {
        "id": "oEZQ07-Kno8y",
        "colab_type": "code",
        "outputId": "70338a45-7e1e-49a9-8cd9-78652bf9102f",
        "colab": {
          "base_uri": "https://localhost:8080/",
          "height": 227
        }
      },
      "source": [
        "patient_churn_study_df.patient_referral.value_counts()"
      ],
      "execution_count": 0,
      "outputs": [
        {
          "output_type": "execute_result",
          "data": {
            "text/plain": [
              "Walk by                   3528\n",
              "Google                    2825\n",
              "Dr in Building            2652\n",
              "Walked by office          2414\n",
              "internet                  1343\n",
              "                          ... \n",
              "WHINFIELD ALLISON            1\n",
              "Lang  Samantha    Miss       1\n",
              "PODOLSKY JEANETTE            1\n",
              "IMBEAU CLAUDE                1\n",
              "Vira Iffat                   1\n",
              "Name: patient_referral, Length: 1067, dtype: int64"
            ]
          },
          "metadata": {
            "tags": []
          },
          "execution_count": 100
        }
      ]
    },
    {
      "cell_type": "markdown",
      "metadata": {
        "id": "pje_hVYyTSFH",
        "colab_type": "text"
      },
      "source": [
        "# **Descriptive Analysis without using Pandas Profiling**"
      ]
    },
    {
      "cell_type": "code",
      "metadata": {
        "id": "NI82sI9Hg7c9",
        "colab_type": "code",
        "outputId": "c82d0b9a-0933-4452-ece0-95d4f7a0e253",
        "colab": {
          "base_uri": "https://localhost:8080/",
          "height": 524
        }
      },
      "source": [
        "print('summary of data :\\n')\n",
        "print(patient_doc_visit_study_df.astype('object').describe().transpose())\n",
        "print('\\nsummary ofmissing values : \\n')\n",
        "print(patient_doc_visit_study_df.isnull().sum())\n",
        "\n"
      ],
      "execution_count": 0,
      "outputs": [
        {
          "output_type": "stream",
          "text": [
            "summary of data :\n",
            "\n",
            "                         count unique                         top    freq\n",
            "transaction_date        371766   1228         2017-02-22 00:00:00     585\n",
            "practice_id             371766     11                      D10745   88331\n",
            "patient_id              371766  19117                       14599     122\n",
            "provider_id             371766    249                        DTRJ   16837\n",
            "transaction_type        371766      2                   Procedure  371335\n",
            "proceedure_code         370310    715                        1202   46922\n",
            "proceedure_description  364046   2005  Polishing One Unit of Time   16094\n",
            "amount                  371766   3602                          33   31117\n",
            "transaction_year        371766      4                        2017   99605\n",
            "transaction_month       371766     12                           1   33991\n",
            "transaction_day         371766     31                          12   13239\n",
            "\n",
            "summary ofmissing values : \n",
            "\n",
            "transaction_date             0\n",
            "practice_id                  0\n",
            "patient_id                   0\n",
            "provider_id                  0\n",
            "transaction_type             0\n",
            "proceedure_code           1456\n",
            "proceedure_description    7720\n",
            "amount                       0\n",
            "transaction_year             0\n",
            "transaction_month            0\n",
            "transaction_day              0\n",
            "dtype: int64\n"
          ],
          "name": "stdout"
        }
      ]
    },
    {
      "cell_type": "code",
      "metadata": {
        "id": "vXsZzviA-N3g",
        "colab_type": "code",
        "outputId": "b1023998-dd4a-425f-c9a0-438ff1a4909c",
        "colab": {
          "base_uri": "https://localhost:8080/",
          "height": 1000
        }
      },
      "source": [
        "Anount_by_practice_per_year_df=patient_doc_visit_study_df.groupby(['practice_id','transaction_year']).amount.sum()\n",
        "\n",
        "with sns.axes_style('white'):\n",
        "    g = sns.catplot(\"practice_id\", 'amount',data=patient_doc_visit_study_df, aspect=4.0, \n",
        "                       order=range(1,11))\n",
        "    g.set_ylabels('Amount charged to customers')"
      ],
      "execution_count": 0,
      "outputs": [
        {
          "output_type": "stream",
          "text": [
            "practice_id  transaction_year\n",
            "D10551       2016                 924673.640\n",
            "             2017                 800582.910\n",
            "             2018                 715769.130\n",
            "             2019                 788334.070\n",
            "D10745       2016                1529253.130\n",
            "             2017                1764245.850\n",
            "             2018                1509020.070\n",
            "             2019                1383619.770\n",
            "D17435       2016                 162746.450\n",
            "             2017                 149311.120\n",
            "             2018                 141226.060\n",
            "             2019                 155165.180\n",
            "D20674       2016                 795837.660\n",
            "             2017                 747194.970\n",
            "             2018                  47533.200\n",
            "D24402       2016                1649990.480\n",
            "             2017                1655737.320\n",
            "             2018                1405027.420\n",
            "             2019                1140137.360\n",
            "D30507       2016                 577228.940\n",
            "             2017                 672406.550\n",
            "             2018                 760143.820\n",
            "             2019                 690523.011\n",
            "D34977       2016                 153499.690\n",
            "             2017                 151830.720\n",
            "             2018                 221637.600\n",
            "             2019                 401396.030\n",
            "D8061        2016                  35781.790\n",
            "             2017                  33972.660\n",
            "             2018                  36551.700\n",
            "             2019                  78595.690\n",
            "D8065        2016                1420866.680\n",
            "             2017                1396719.520\n",
            "             2018                1339084.740\n",
            "             2019                1287720.390\n",
            "D8066        2016                1235123.160\n",
            "             2017                1350972.780\n",
            "             2018                1537867.250\n",
            "             2019                1455719.400\n",
            "D8753        2017                  41736.420\n",
            "             2018                 227416.460\n",
            "             2019                 412594.360\n",
            "Name: amount, dtype: float64\n"
          ],
          "name": "stdout"
        },
        {
          "output_type": "display_data",
          "data": {
            "image/png": "[encoded data removed]",
            "text/plain": [
              "<Figure size 1440x360 with 1 Axes>"
            ]
          },
          "metadata": {
            "tags": []
          }
        }
      ]
    },
    {
      "cell_type": "markdown",
      "metadata": {
        "id": "V7u8FWAua0o8",
        "colab_type": "text"
      },
      "source": [
        "# FInding Missing Values and fixing them accordingly\n",
        "\n",
        "\n",
        "*   List item\n",
        "*   List item\n",
        "\n"
      ]
    },
    {
      "cell_type": "code",
      "metadata": {
        "id": "HupgLu1UIEHB",
        "colab_type": "code",
        "outputId": "f4f64ffc-2310-4653-a2f4-ea9f29b7aefe",
        "colab": {
          "base_uri": "https://localhost:8080/",
          "height": 367
        }
      },
      "source": [
        "print(patient_churn_study_df.isnull().sum())\n"
      ],
      "execution_count": 0,
      "outputs": [
        {
          "output_type": "stream",
          "text": [
            "practice_id                            0\n",
            "patient_id                             0\n",
            "gender                               566\n",
            "age                                    0\n",
            "zip                                 3242\n",
            "primary_insurance_company_id       70969\n",
            "secondary_insurance_company_id    323444\n",
            "patient_referral                  325045\n",
            "other_referral                    341990\n",
            "FirstVisit                             0\n",
            "LastVisit                              0\n",
            "DaysLastVisit                          0\n",
            "Chrun                                  0\n",
            "transaction_date                       0\n",
            "provider_id                            0\n",
            "transaction_type                       0\n",
            "proceedure_code                     1460\n",
            "proceedure_description              7724\n",
            "amount                                 0\n",
            "dtype: int64\n"
          ],
          "name": "stdout"
        }
      ]
    },
    {
      "cell_type": "markdown",
      "metadata": {
        "id": "8fjLpWByox4B",
        "colab_type": "text"
      },
      "source": [
        "# BootStrap function"
      ]
    },
    {
      "cell_type": "code",
      "metadata": {
        "id": "ODFNcI_qhPNz",
        "colab_type": "code",
        "outputId": "8beb7fc9-eaad-4369-f366-0dddb66a4d31",
        "colab": {
          "base_uri": "https://localhost:8080/",
          "height": 1000
        }
      },
      "source": [
        "#Definition of Bootstrap\n",
        "#Choose a number of bootstrap samples to perform\n",
        "#Choose a sample size\n",
        "#For each bootstrap sample\n",
        "#Draw a sample with replacement with the chosen size\n",
        "#Calculate the statistic on the sample\n",
        "#Calculate the mean of the calculated sample statistics.\n",
        "\n",
        "def boot_samp_repl(df,sample_size, numberofsamples):\n",
        "  bootsamples=dict();\n",
        "  for n in range(1,numberofsamples+1):\n",
        "    i = resample(df.index, replace=True, n_samples=sample_size, random_state=1)\n",
        "    bootsamples[\"sample_{}\".format(n)]=df.loc[i,:]\n",
        "  return bootsamples\n",
        "\n",
        "x=boot_samp_repl(patient_doc_visit_df,4,10)\n",
        "x\n",
        "\n",
        "\n"
      ],
      "execution_count": 0,
      "outputs": [
        {
          "output_type": "execute_result",
          "data": {
            "text/plain": [
              "{'sample_1':        transaction_date practice_id  ...       proceedure_description amount\n",
              " 128037       11/20/2017       D8066  ...  Scaling Three Units of Time  123.0\n",
              " 491755        6/24/2019       D8065  ...             Scaling 1/2 unit   22.0\n",
              " 470924        6/22/2018       D8066  ...  Scaling Three Units of Time  126.0\n",
              " 491263         7/9/2019       D8065  ...              Polish 1/2 unit   25.0\n",
              " \n",
              " [4 rows x 8 columns],\n",
              " 'sample_2':        transaction_date practice_id  ...       proceedure_description amount\n",
              " 128037       11/20/2017       D8066  ...  Scaling Three Units of Time  123.0\n",
              " 491755        6/24/2019       D8065  ...             Scaling 1/2 unit   22.0\n",
              " 470924        6/22/2018       D8066  ...  Scaling Three Units of Time  126.0\n",
              " 491263         7/9/2019       D8065  ...              Polish 1/2 unit   25.0\n",
              " \n",
              " [4 rows x 8 columns],\n",
              " 'sample_3':        transaction_date practice_id  ...       proceedure_description amount\n",
              " 128037       11/20/2017       D8066  ...  Scaling Three Units of Time  123.0\n",
              " 491755        6/24/2019       D8065  ...             Scaling 1/2 unit   22.0\n",
              " 470924        6/22/2018       D8066  ...  Scaling Three Units of Time  126.0\n",
              " 491263         7/9/2019       D8065  ...              Polish 1/2 unit   25.0\n",
              " \n",
              " [4 rows x 8 columns],\n",
              " 'sample_4':        transaction_date practice_id  ...       proceedure_description amount\n",
              " 128037       11/20/2017       D8066  ...  Scaling Three Units of Time  123.0\n",
              " 491755        6/24/2019       D8065  ...             Scaling 1/2 unit   22.0\n",
              " 470924        6/22/2018       D8066  ...  Scaling Three Units of Time  126.0\n",
              " 491263         7/9/2019       D8065  ...              Polish 1/2 unit   25.0\n",
              " \n",
              " [4 rows x 8 columns],\n",
              " 'sample_5':        transaction_date practice_id  ...       proceedure_description amount\n",
              " 128037       11/20/2017       D8066  ...  Scaling Three Units of Time  123.0\n",
              " 491755        6/24/2019       D8065  ...             Scaling 1/2 unit   22.0\n",
              " 470924        6/22/2018       D8066  ...  Scaling Three Units of Time  126.0\n",
              " 491263         7/9/2019       D8065  ...              Polish 1/2 unit   25.0\n",
              " \n",
              " [4 rows x 8 columns],\n",
              " 'sample_6':        transaction_date practice_id  ...       proceedure_description amount\n",
              " 128037       11/20/2017       D8066  ...  Scaling Three Units of Time  123.0\n",
              " 491755        6/24/2019       D8065  ...             Scaling 1/2 unit   22.0\n",
              " 470924        6/22/2018       D8066  ...  Scaling Three Units of Time  126.0\n",
              " 491263         7/9/2019       D8065  ...              Polish 1/2 unit   25.0\n",
              " \n",
              " [4 rows x 8 columns],\n",
              " 'sample_7':        transaction_date practice_id  ...       proceedure_description amount\n",
              " 128037       11/20/2017       D8066  ...  Scaling Three Units of Time  123.0\n",
              " 491755        6/24/2019       D8065  ...             Scaling 1/2 unit   22.0\n",
              " 470924        6/22/2018       D8066  ...  Scaling Three Units of Time  126.0\n",
              " 491263         7/9/2019       D8065  ...              Polish 1/2 unit   25.0\n",
              " \n",
              " [4 rows x 8 columns],\n",
              " 'sample_8':        transaction_date practice_id  ...       proceedure_description amount\n",
              " 128037       11/20/2017       D8066  ...  Scaling Three Units of Time  123.0\n",
              " 491755        6/24/2019       D8065  ...             Scaling 1/2 unit   22.0\n",
              " 470924        6/22/2018       D8066  ...  Scaling Three Units of Time  126.0\n",
              " 491263         7/9/2019       D8065  ...              Polish 1/2 unit   25.0\n",
              " \n",
              " [4 rows x 8 columns],\n",
              " 'sample_9':        transaction_date practice_id  ...       proceedure_description amount\n",
              " 128037       11/20/2017       D8066  ...  Scaling Three Units of Time  123.0\n",
              " 491755        6/24/2019       D8065  ...             Scaling 1/2 unit   22.0\n",
              " 470924        6/22/2018       D8066  ...  Scaling Three Units of Time  126.0\n",
              " 491263         7/9/2019       D8065  ...              Polish 1/2 unit   25.0\n",
              " \n",
              " [4 rows x 8 columns]}"
            ]
          },
          "metadata": {
            "tags": []
          },
          "execution_count": 24
        }
      ]
    },
    {
      "cell_type": "code",
      "metadata": {
        "id": "H1fGADRhmRsh",
        "colab_type": "code",
        "outputId": "37846d42-89f4-42a9-a4a7-e6dfc251aad2",
        "colab": {
          "base_uri": "https://localhost:8080/",
          "height": 1000
        }
      },
      "source": [
        "bootsamples"
      ],
      "execution_count": 0,
      "outputs": [
        {
          "output_type": "execute_result",
          "data": {
            "text/plain": [
              "{'sample_1':        transaction_date practice_id  ...       proceedure_description amount\n",
              " 128037       11/20/2017       D8066  ...  Scaling Three Units of Time  123.0\n",
              " 491755        6/24/2019       D8065  ...             Scaling 1/2 unit   22.0\n",
              " 470924        6/22/2018       D8066  ...  Scaling Three Units of Time  126.0\n",
              " 491263         7/9/2019       D8065  ...              Polish 1/2 unit   25.0\n",
              " \n",
              " [4 rows x 8 columns],\n",
              " 'sample_2':        transaction_date practice_id  ...       proceedure_description amount\n",
              " 128037       11/20/2017       D8066  ...  Scaling Three Units of Time  123.0\n",
              " 491755        6/24/2019       D8065  ...             Scaling 1/2 unit   22.0\n",
              " 470924        6/22/2018       D8066  ...  Scaling Three Units of Time  126.0\n",
              " 491263         7/9/2019       D8065  ...              Polish 1/2 unit   25.0\n",
              " \n",
              " [4 rows x 8 columns],\n",
              " 'sample_3':        transaction_date practice_id  ...       proceedure_description amount\n",
              " 128037       11/20/2017       D8066  ...  Scaling Three Units of Time  123.0\n",
              " 491755        6/24/2019       D8065  ...             Scaling 1/2 unit   22.0\n",
              " 470924        6/22/2018       D8066  ...  Scaling Three Units of Time  126.0\n",
              " 491263         7/9/2019       D8065  ...              Polish 1/2 unit   25.0\n",
              " \n",
              " [4 rows x 8 columns],\n",
              " 'sample_4':        transaction_date practice_id  ...       proceedure_description amount\n",
              " 128037       11/20/2017       D8066  ...  Scaling Three Units of Time  123.0\n",
              " 491755        6/24/2019       D8065  ...             Scaling 1/2 unit   22.0\n",
              " 470924        6/22/2018       D8066  ...  Scaling Three Units of Time  126.0\n",
              " 491263         7/9/2019       D8065  ...              Polish 1/2 unit   25.0\n",
              " \n",
              " [4 rows x 8 columns],\n",
              " 'sample_5':        transaction_date practice_id  ...       proceedure_description amount\n",
              " 128037       11/20/2017       D8066  ...  Scaling Three Units of Time  123.0\n",
              " 491755        6/24/2019       D8065  ...             Scaling 1/2 unit   22.0\n",
              " 470924        6/22/2018       D8066  ...  Scaling Three Units of Time  126.0\n",
              " 491263         7/9/2019       D8065  ...              Polish 1/2 unit   25.0\n",
              " \n",
              " [4 rows x 8 columns],\n",
              " 'sample_6':        transaction_date practice_id  ...       proceedure_description amount\n",
              " 128037       11/20/2017       D8066  ...  Scaling Three Units of Time  123.0\n",
              " 491755        6/24/2019       D8065  ...             Scaling 1/2 unit   22.0\n",
              " 470924        6/22/2018       D8066  ...  Scaling Three Units of Time  126.0\n",
              " 491263         7/9/2019       D8065  ...              Polish 1/2 unit   25.0\n",
              " \n",
              " [4 rows x 8 columns],\n",
              " 'sample_7':        transaction_date practice_id  ...       proceedure_description amount\n",
              " 128037       11/20/2017       D8066  ...  Scaling Three Units of Time  123.0\n",
              " 491755        6/24/2019       D8065  ...             Scaling 1/2 unit   22.0\n",
              " 470924        6/22/2018       D8066  ...  Scaling Three Units of Time  126.0\n",
              " 491263         7/9/2019       D8065  ...              Polish 1/2 unit   25.0\n",
              " \n",
              " [4 rows x 8 columns],\n",
              " 'sample_8':        transaction_date practice_id  ...       proceedure_description amount\n",
              " 128037       11/20/2017       D8066  ...  Scaling Three Units of Time  123.0\n",
              " 491755        6/24/2019       D8065  ...             Scaling 1/2 unit   22.0\n",
              " 470924        6/22/2018       D8066  ...  Scaling Three Units of Time  126.0\n",
              " 491263         7/9/2019       D8065  ...              Polish 1/2 unit   25.0\n",
              " \n",
              " [4 rows x 8 columns],\n",
              " 'sample_9':        transaction_date practice_id  ...       proceedure_description amount\n",
              " 128037       11/20/2017       D8066  ...  Scaling Three Units of Time  123.0\n",
              " 491755        6/24/2019       D8065  ...             Scaling 1/2 unit   22.0\n",
              " 470924        6/22/2018       D8066  ...  Scaling Three Units of Time  126.0\n",
              " 491263         7/9/2019       D8065  ...              Polish 1/2 unit   25.0\n",
              " \n",
              " [4 rows x 8 columns]}"
            ]
          },
          "metadata": {
            "tags": []
          },
          "execution_count": 23
        }
      ]
    }
  ]
}