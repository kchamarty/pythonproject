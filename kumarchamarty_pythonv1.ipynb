{
  "nbformat": 4,
  "nbformat_minor": 0,
  "metadata": {
    "colab": {
      "name": "kumarchamarty_pythonv1.ipynb",
      "provenance": [],
      "authorship_tag": "ABX9TyMfjQppKeSxjyc4U2jePead",
      "include_colab_link": true
    },
    "kernelspec": {
      "name": "python3",
      "display_name": "Python 3"
    }
  },
  "cells": [
    {
      "cell_type": "markdown",
      "metadata": {
        "id": "view-in-github",
        "colab_type": "text"
      },
      "source": [
        "<a href=\"https://colab.research.google.com/github/kchamarty/pythonproject/blob/master/kumarchamarty_pythonv1.ipynb\" target=\"_parent\"><img src=\"https://colab.research.google.com/assets/colab-badge.svg\" alt=\"Open In Colab\"/></a>"
      ]
    },
    {
      "cell_type": "markdown",
      "metadata": {
        "id": "moOhG7HoLgcY",
        "colab_type": "text"
      },
      "source": [
        "# **Data Importing**\n",
        "\n",
        "\n",
        "---\n",
        "\n",
        "We have two data sets one containing the patient doctor visit information and the other containing the status of the patient active or not"
      ]
    },
    {
      "cell_type": "code",
      "metadata": {
        "id": "Mv4cYiyQLeWd",
        "colab_type": "code",
        "colab": {}
      },
      "source": [
        ""
      ],
      "execution_count": 0,
      "outputs": []
    }
  ]
}