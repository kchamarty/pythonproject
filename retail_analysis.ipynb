{
 "cells": [
  {
   "cell_type": "code",
   "execution_count": 6,
   "metadata": {},
   "outputs": [
    {
     "name": "stdout",
     "output_type": "stream",
     "text": [
      "Index(['Item_Identifier', 'Item_Weight', 'Item_Fat_Content', 'Item_Visibility',\n",
      "       'Item_Type', 'Item_MRP', 'Outlet_Identifier',\n",
      "       'Outlet_Establishment_Year', 'Outlet_Size', 'Outlet_Location_Type',\n",
      "       'Outlet_Type', 'Item_Outlet_Sales'],\n",
      "      dtype='object')\n"
     ]
    }
   ],
   "source": [
    "import pandas as pd\n",
    "import numpy as np\n",
    "import pandas_profiling\n",
    "\n",
    "#%matplotlib notebook\n",
    "import matplotlib as plot\n",
    "data_retail = pd.read_csv('data/Store_Train_Forecast_Class.csv')\n",
    "print(data_retail.columns)"
   ]
  },
  {
   "cell_type": "code",
   "execution_count": 7,
   "metadata": {
    "scrolled": true
   },
   "outputs": [
    {
     "name": "stdout",
     "output_type": "stream",
     "text": [
      "Outlet_Type Grocery Store Supermarket Type1 Supermarket Type2  \\\n",
      "Outlet_Size         Small             Small            Medium   \n",
      "\n",
      "Outlet_Type Supermarket Type3  \n",
      "Outlet_Size            Medium  \n",
      "Original Missing Values: 2410\n",
      "After substituting Modes: 0\n"
     ]
    }
   ],
   "source": [
    "from scipy.stats import mode\n",
    "\n",
    "outlet_size_mode =data_retail.pivot_table(values ='Outlet_Size',columns='Outlet_Type',aggfunc=(lambda x:mode(x).mode[0]))\n",
    "print(outlet_size_mode)\n",
    "#create boolean matrix for null values \n",
    "miss_bool =data_retail.Outlet_Size.isnull()\n",
    "\n",
    "print('Original Missing Values:',sum(miss_bool))\n",
    "\n",
    "#replace missing Outlet_Size values by it's mode grouped by Outlet_Type \n",
    "\n",
    "data_retail.loc[miss_bool,'Outlet_Size'] = data_retail.loc[miss_bool,'Outlet_Type'].apply(lambda x:outlet_size_mode[x])\n",
    "\n",
    "miss_bool =data_retail.Outlet_Size.isnull()\n",
    "print('After substituting Modes:',sum(miss_bool))"
   ]
  },
  {
   "cell_type": "code",
   "execution_count": 8,
   "metadata": {
    "scrolled": true
   },
   "outputs": [
    {
     "name": "stdout",
     "output_type": "stream",
     "text": [
      "Low Fat    5089\n",
      "Regular    2889\n",
      "LF          316\n",
      "reg         117\n",
      "low fat     112\n",
      "Name: Item_Fat_Content, dtype: int64\n",
      "low fat    5517\n",
      "Regular    3006\n",
      "Name: Item_Fat_Content, dtype: int64\n"
     ]
    }
   ],
   "source": [
    "# combine the Item_Fat_content of low Fat, LF & low fat  into \"low fat and Regular and reg into Regular\n",
    "\n",
    "print(data_retail.Item_Fat_Content.value_counts())\n",
    "\n",
    "data_retail.Item_Fat_Content.replace({'LF':'low fat', 'Low Fat':'low fat','reg':'Regular'},inplace=True)\n",
    "print(data_retail.Item_Fat_Content.value_counts())\n"
   ]
  },
  {
   "cell_type": "code",
   "execution_count": 30,
   "metadata": {
    "scrolled": true
   },
   "outputs": [
    {
     "name": "stdout",
     "output_type": "stream",
     "text": [
      "  Item_Identifier  Item_Weight Item_Fat_Content  Item_Visibility  \\\n",
      "0           FDA15         9.30          low fat         0.016047   \n",
      "1           DRC01         5.92          Regular         0.019278   \n",
      "2           FDN15        17.50          low fat         0.016760   \n",
      "3           FDX07        19.20          Regular         0.000000   \n",
      "4           NCD19         8.93          low fat         0.000000   \n",
      "\n",
      "               Item_Type  Item_MRP Outlet_Identifier  \\\n",
      "0                  Dairy  249.8092            OUT049   \n",
      "1            Soft Drinks   48.2692            OUT018   \n",
      "2                   Meat  141.6180            OUT049   \n",
      "3  Fruits and Vegetables  182.0950            OUT010   \n",
      "4              Household   53.8614            OUT013   \n",
      "\n",
      "   Outlet_Establishment_Year Outlet_Size Outlet_Location_Type  \\\n",
      "0                       1999      Medium               Tier 1   \n",
      "1                       2009      Medium               Tier 3   \n",
      "2                       1999      Medium               Tier 1   \n",
      "3                       1998       Small               Tier 3   \n",
      "4                       1987        High               Tier 3   \n",
      "\n",
      "         Outlet_Type  Item_Outlet_Sales         code_exp  Outlet_age  \n",
      "0  Supermarket Type1          3735.1380             food          14  \n",
      "1  Supermarket Type2           443.4228           drinks           4  \n",
      "2  Supermarket Type1          2097.2700             food          14  \n",
      "3      Grocery Store           732.3800             food          15  \n",
      "4  Supermarket Type1           994.7052  non-consumables          26  \n"
     ]
    }
   ],
   "source": [
    "print(data_retail.head(5))"
   ]
  },
  {
   "cell_type": "code",
   "execution_count": 11,
   "metadata": {},
   "outputs": [
    {
     "name": "stdout",
     "output_type": "stream",
     "text": [
      "FD    6125\n",
      "NC    1599\n",
      "DR     799\n",
      "Name: Item_Identifier, dtype: int64\n",
      "{'FD': 'food', 'NC': 'non-consumables', 'DR': 'drinks'}\n",
      "food               6125\n",
      "non-consumables    1599\n",
      "drinks              799\n",
      "Name: code_exp, dtype: int64\n"
     ]
    }
   ],
   "source": [
    "#part of feature engineering\n",
    "\n",
    "print(data_retail.Item_Identifier.str.slice(0,2).value_counts())\n",
    "values={'FD':'food','NC':'non-consumables','DR':'drinks'}\n",
    "print(values);\n",
    "data_retail['code_exp'] = data_retail.Item_Identifier.apply(lambda  x : values[x[0:2]])\n",
    "\n",
    "print(data_retail.code_exp.value_counts())"
   ]
  },
  {
   "cell_type": "code",
   "execution_count": 28,
   "metadata": {},
   "outputs": [
    {
     "name": "stdout",
     "output_type": "stream",
     "text": [
      "                   Item_Outlet_Sales\n",
      "Outlet_Type                         \n",
      "Grocery Store             339.828500\n",
      "Supermarket Type1        2316.181148\n",
      "Supermarket Type2        1995.498739\n",
      "Supermarket Type3        3694.038558\n"
     ]
    }
   ],
   "source": [
    "#should we combine outlets supermarket Type2 and Type3\n",
    "\n",
    "print(data_retail.pivot_table(values='Item_Outlet_Sales',index ='Outlet_Type'))"
   ]
  },
  {
   "cell_type": "code",
   "execution_count": 29,
   "metadata": {
    "scrolled": true
   },
   "outputs": [
    {
     "name": "stdout",
     "output_type": "stream",
     "text": [
      "count    8523.000000\n",
      "mean       15.168133\n",
      "std         8.371760\n",
      "min         4.000000\n",
      "25%         9.000000\n",
      "50%        14.000000\n",
      "75%        26.000000\n",
      "max        28.000000\n",
      "Name: Outlet_age, dtype: float64\n"
     ]
    }
   ],
   "source": [
    "#Age of store in years:\n",
    "from datetime import date\n",
    "#curryear=date.today()\n",
    "#print(curryear.year)\n",
    "#data_retail.Outlet_Establishment_Year[0])\n",
    "\n",
    "data_retail['Outlet_age']=2013-data_retail.Outlet_Establishment_Year\n",
    "print(data_retail['Outlet_age'].describe())"
   ]
  },
  {
   "cell_type": "code",
   "execution_count": null,
   "metadata": {},
   "outputs": [],
   "source": [
    "#Encoding\n",
    "\n",
    "#Label Encoding - adds weight to the x\n",
    "#one Hot Encoding - "
   ]
  }
 ],
 "metadata": {
  "kernelspec": {
   "display_name": "Python 3",
   "language": "python",
   "name": "python3"
  },
  "language_info": {
   "codemirror_mode": {
    "name": "ipython",
    "version": 3
   },
   "file_extension": ".py",
   "mimetype": "text/x-python",
   "name": "python",
   "nbconvert_exporter": "python",
   "pygments_lexer": "ipython3",
   "version": "3.7.3"
  }
 },
 "nbformat": 4,
 "nbformat_minor": 2
}
